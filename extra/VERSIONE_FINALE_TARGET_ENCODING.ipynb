{
  "cells": [
    {
      "cell_type": "markdown",
      "metadata": {
        "id": "UnomfcBCAFhU"
      },
      "source": [
        "**DOWNLOAD DATABASE FROM KAGGLE AND UNZIPPING**\n"
      ]
    },
    {
      "cell_type": "code",
      "execution_count": null,
      "metadata": {
        "colab": {
          "base_uri": "https://localhost:8080/"
        },
        "id": "JthLsE2HACAb",
        "outputId": "88a72211-51f5-4563-d078-b7cf14980571"
      },
      "outputs": [
        {
          "output_type": "stream",
          "name": "stdout",
          "text": [
            "Requirement already satisfied: kaggle in /usr/local/lib/python3.10/dist-packages (1.5.16)\n",
            "Requirement already satisfied: six>=1.10 in /usr/local/lib/python3.10/dist-packages (from kaggle) (1.16.0)\n",
            "Requirement already satisfied: certifi in /usr/local/lib/python3.10/dist-packages (from kaggle) (2023.7.22)\n",
            "Requirement already satisfied: python-dateutil in /usr/local/lib/python3.10/dist-packages (from kaggle) (2.8.2)\n",
            "Requirement already satisfied: requests in /usr/local/lib/python3.10/dist-packages (from kaggle) (2.31.0)\n",
            "Requirement already satisfied: tqdm in /usr/local/lib/python3.10/dist-packages (from kaggle) (4.66.1)\n",
            "Requirement already satisfied: python-slugify in /usr/local/lib/python3.10/dist-packages (from kaggle) (8.0.1)\n",
            "Requirement already satisfied: urllib3 in /usr/local/lib/python3.10/dist-packages (from kaggle) (2.0.4)\n",
            "Requirement already satisfied: bleach in /usr/local/lib/python3.10/dist-packages (from kaggle) (6.0.0)\n",
            "Requirement already satisfied: webencodings in /usr/local/lib/python3.10/dist-packages (from bleach->kaggle) (0.5.1)\n",
            "Requirement already satisfied: text-unidecode>=1.3 in /usr/local/lib/python3.10/dist-packages (from python-slugify->kaggle) (1.3)\n",
            "Requirement already satisfied: charset-normalizer<4,>=2 in /usr/local/lib/python3.10/dist-packages (from requests->kaggle) (3.2.0)\n",
            "Requirement already satisfied: idna<4,>=2.5 in /usr/local/lib/python3.10/dist-packages (from requests->kaggle) (3.4)\n",
            "Requirement already satisfied: cryptography in /usr/local/lib/python3.10/dist-packages (41.0.3)\n",
            "Requirement already satisfied: cffi>=1.12 in /usr/local/lib/python3.10/dist-packages (from cryptography) (1.15.1)\n",
            "Requirement already satisfied: pycparser in /usr/local/lib/python3.10/dist-packages (from cffi>=1.12->cryptography) (2.21)\n"
          ]
        }
      ],
      "source": [
        "!pip install kaggle\n",
        "import os\n",
        "import requests\n",
        "! pip install cryptography\n",
        "from cryptography.fernet import Fernet\n",
        "import base64\n"
      ]
    },
    {
      "cell_type": "code",
      "execution_count": null,
      "metadata": {
        "colab": {
          "base_uri": "https://localhost:8080/"
        },
        "id": "JdIGPrKyALUu",
        "outputId": "08fe4f2a-c57e-409c-d622-f22970de6f6b"
      },
      "outputs": [
        {
          "output_type": "stream",
          "name": "stdout",
          "text": [
            "insert key:Fm4ZMvAMi137fE5amfK5sEInvt9u7RKMRcxIRIjKAvc=\n",
            "a30078fdba2d0450fb1779ff727a4ac5\n",
            "Downloading ibm-transactions-for-anti-money-laundering-aml.zip to /content\n",
            "100% 7.42G/7.42G [01:26<00:00, 160MB/s]\n",
            "100% 7.42G/7.42G [01:26<00:00, 92.2MB/s]\n"
          ]
        }
      ],
      "source": [
        "def decrypt_string(key, ciphertext):\n",
        "    cipher_suite = Fernet(key)\n",
        "    decrypted_data = cipher_suite.decrypt(ciphertext.encode())\n",
        "    return decrypted_data.decode()\n",
        "\n",
        "\n",
        "\n",
        "key = input(\"insert key:\")\n",
        "\n",
        "\n",
        "decoded = decrypt_string(key, \"gAAAAABk9xBa3eFP92CFCJtvQdSsmokMYfU2GFVI-AqpXNjNysqOAPm4oWKq3bzknm9Iz5MxUyNta6vNJl3I_g31P20NRiZ_aOsh-FELLvSwftJIbaRMuZohi08VJPzZhqLjTGBLgx-D\")\n",
        "\n",
        "print(\"Access granted\")\n",
        "os.getcwd()\n",
        "os.environ['KAGGLE_USERNAME'] = \"matiassalaris\"\n",
        "os.environ['KAGGLE_KEY'] = decoded\n",
        "\n",
        "#download the \"ealtman2019/ibm-transactions-for-anti-money-laundering-aml\" kaggle database\n",
        "\n",
        "!kaggle datasets download --force -d ealtman2019/ibm-transactions-for-anti-money-laundering-aml"
      ]
    },
    {
      "cell_type": "code",
      "execution_count": null,
      "metadata": {
        "colab": {
          "base_uri": "https://localhost:8080/"
        },
        "id": "MpP1LJ3TARmg",
        "outputId": "96d5f1be-0ea3-4ec2-945b-dbd3415f9a1a"
      },
      "outputs": [
        {
          "output_type": "stream",
          "name": "stdout",
          "text": [
            "The file 'LI-Small_Trans.csv' has been extracted to '/content/extracted_dataset'.\n"
          ]
        }
      ],
      "source": [
        "#unzip the file 'LI-Small_Trans.csv'\n",
        "import zipfile\n",
        "zip_path = '/content/ibm-transactions-for-anti-money-laundering-aml.zip'\n",
        "file_to_extract = 'LI-Small_Trans.csv'\n",
        "output_path = '/content/extracted_dataset'\n",
        "\n",
        "def unzip_single_file(zip_path, file_to_extract, output_path):\n",
        "    with zipfile.ZipFile(zip_path, 'r') as zip_ref:\n",
        "        if file_to_extract in zip_ref.namelist():\n",
        "            zip_ref.extract(file_to_extract, path=output_path)\n",
        "            print(f\"The file '{file_to_extract}' has been extracted to '{output_path}'.\")\n",
        "        else:\n",
        "            print(f\"The file '{file_to_extract}' does not exist in the zip folder.\")\n",
        "\n",
        "\n",
        "unzip_single_file(zip_path, file_to_extract, output_path)"
      ]
    },
    {
      "cell_type": "markdown",
      "metadata": {
        "id": "bbPOwjF8ApHV"
      },
      "source": [
        "**SET UP THE ENVIRONMENT(PYSPARK,PANDAS, Etc..)**\n"
      ]
    },
    {
      "cell_type": "code",
      "execution_count": null,
      "metadata": {
        "colab": {
          "base_uri": "https://localhost:8080/"
        },
        "id": "lghfl-12AqAJ",
        "outputId": "347248e4-ee64-42c8-ba3d-fe8f722a03da"
      },
      "outputs": [
        {
          "output_type": "stream",
          "name": "stdout",
          "text": [
            "Collecting pyspark\n",
            "  Downloading pyspark-3.4.1.tar.gz (310.8 MB)\n",
            "\u001b[2K     \u001b[90m━━━━━━━━━━━━━━━━━━━━━━━━━━━━━━━━━━━━━━━\u001b[0m \u001b[32m310.8/310.8 MB\u001b[0m \u001b[31m3.1 MB/s\u001b[0m eta \u001b[36m0:00:00\u001b[0m\n",
            "\u001b[?25h  Preparing metadata (setup.py) ... \u001b[?25l\u001b[?25hdone\n",
            "Requirement already satisfied: py4j==0.10.9.7 in /usr/local/lib/python3.10/dist-packages (from pyspark) (0.10.9.7)\n",
            "Building wheels for collected packages: pyspark\n",
            "  Building wheel for pyspark (setup.py) ... \u001b[?25l\u001b[?25hdone\n",
            "  Created wheel for pyspark: filename=pyspark-3.4.1-py2.py3-none-any.whl size=311285387 sha256=9b69895dee9fb82b615a3164e14dec772082c545ec585f34ebe99bef4a12a631\n",
            "  Stored in directory: /root/.cache/pip/wheels/0d/77/a3/ff2f74cc9ab41f8f594dabf0579c2a7c6de920d584206e0834\n",
            "Successfully built pyspark\n",
            "Installing collected packages: pyspark\n",
            "Successfully installed pyspark-3.4.1\n",
            "The following additional packages will be installed:\n",
            "  libxtst6 openjdk-8-jre-headless\n",
            "Suggested packages:\n",
            "  openjdk-8-demo openjdk-8-source libnss-mdns fonts-dejavu-extra fonts-nanum\n",
            "  fonts-ipafont-gothic fonts-ipafont-mincho fonts-wqy-microhei\n",
            "  fonts-wqy-zenhei fonts-indic\n",
            "The following NEW packages will be installed:\n",
            "  libxtst6 openjdk-8-jdk-headless openjdk-8-jre-headless\n",
            "0 upgraded, 3 newly installed, 0 to remove and 16 not upgraded.\n",
            "Need to get 39.7 MB of archives.\n",
            "After this operation, 144 MB of additional disk space will be used.\n",
            "Selecting previously unselected package libxtst6:amd64.\n",
            "(Reading database ... 120893 files and directories currently installed.)\n",
            "Preparing to unpack .../libxtst6_2%3a1.2.3-1build4_amd64.deb ...\n",
            "Unpacking libxtst6:amd64 (2:1.2.3-1build4) ...\n",
            "Selecting previously unselected package openjdk-8-jre-headless:amd64.\n",
            "Preparing to unpack .../openjdk-8-jre-headless_8u382-ga-1~22.04.1_amd64.deb ...\n",
            "Unpacking openjdk-8-jre-headless:amd64 (8u382-ga-1~22.04.1) ...\n",
            "Selecting previously unselected package openjdk-8-jdk-headless:amd64.\n",
            "Preparing to unpack .../openjdk-8-jdk-headless_8u382-ga-1~22.04.1_amd64.deb ...\n",
            "Unpacking openjdk-8-jdk-headless:amd64 (8u382-ga-1~22.04.1) ...\n",
            "Setting up libxtst6:amd64 (2:1.2.3-1build4) ...\n",
            "Setting up openjdk-8-jre-headless:amd64 (8u382-ga-1~22.04.1) ...\n",
            "update-alternatives: using /usr/lib/jvm/java-8-openjdk-amd64/jre/bin/orbd to provide /usr/bin/orbd (orbd) in auto mode\n",
            "update-alternatives: using /usr/lib/jvm/java-8-openjdk-amd64/jre/bin/servertool to provide /usr/bin/servertool (servertool) in auto mode\n",
            "update-alternatives: using /usr/lib/jvm/java-8-openjdk-amd64/jre/bin/tnameserv to provide /usr/bin/tnameserv (tnameserv) in auto mode\n",
            "Setting up openjdk-8-jdk-headless:amd64 (8u382-ga-1~22.04.1) ...\n",
            "update-alternatives: using /usr/lib/jvm/java-8-openjdk-amd64/bin/clhsdb to provide /usr/bin/clhsdb (clhsdb) in auto mode\n",
            "update-alternatives: using /usr/lib/jvm/java-8-openjdk-amd64/bin/extcheck to provide /usr/bin/extcheck (extcheck) in auto mode\n",
            "update-alternatives: using /usr/lib/jvm/java-8-openjdk-amd64/bin/hsdb to provide /usr/bin/hsdb (hsdb) in auto mode\n",
            "update-alternatives: using /usr/lib/jvm/java-8-openjdk-amd64/bin/idlj to provide /usr/bin/idlj (idlj) in auto mode\n",
            "update-alternatives: using /usr/lib/jvm/java-8-openjdk-amd64/bin/javah to provide /usr/bin/javah (javah) in auto mode\n",
            "update-alternatives: using /usr/lib/jvm/java-8-openjdk-amd64/bin/jhat to provide /usr/bin/jhat (jhat) in auto mode\n",
            "update-alternatives: using /usr/lib/jvm/java-8-openjdk-amd64/bin/jsadebugd to provide /usr/bin/jsadebugd (jsadebugd) in auto mode\n",
            "update-alternatives: using /usr/lib/jvm/java-8-openjdk-amd64/bin/native2ascii to provide /usr/bin/native2ascii (native2ascii) in auto mode\n",
            "update-alternatives: using /usr/lib/jvm/java-8-openjdk-amd64/bin/schemagen to provide /usr/bin/schemagen (schemagen) in auto mode\n",
            "update-alternatives: using /usr/lib/jvm/java-8-openjdk-amd64/bin/wsgen to provide /usr/bin/wsgen (wsgen) in auto mode\n",
            "update-alternatives: using /usr/lib/jvm/java-8-openjdk-amd64/bin/wsimport to provide /usr/bin/wsimport (wsimport) in auto mode\n",
            "update-alternatives: using /usr/lib/jvm/java-8-openjdk-amd64/bin/xjc to provide /usr/bin/xjc (xjc) in auto mode\n",
            "Processing triggers for libc-bin (2.35-0ubuntu3.1) ...\n",
            "/sbin/ldconfig.real: /usr/local/lib/libtbbbind.so.3 is not a symbolic link\n",
            "\n",
            "/sbin/ldconfig.real: /usr/local/lib/libtbbbind_2_5.so.3 is not a symbolic link\n",
            "\n",
            "/sbin/ldconfig.real: /usr/local/lib/libtbbbind_2_0.so.3 is not a symbolic link\n",
            "\n",
            "/sbin/ldconfig.real: /usr/local/lib/libtbbmalloc_proxy.so.2 is not a symbolic link\n",
            "\n",
            "/sbin/ldconfig.real: /usr/local/lib/libtbb.so.12 is not a symbolic link\n",
            "\n",
            "/sbin/ldconfig.real: /usr/local/lib/libtbbmalloc.so.2 is not a symbolic link\n",
            "\n"
          ]
        }
      ],
      "source": [
        "!pip install pyspark\n",
        "!pip install -U -q PyDrive\n",
        "!apt install openjdk-8-jdk-headless -qq\n",
        "import os\n",
        "os.environ[\"JAVA_HOME\"] = \"/usr/lib/jvm/java-8-openjdk-amd64\"\n",
        "import pyspark\n",
        "import pyspark.sql  as pyspark_sql\n",
        "import pyspark.sql.types as pyspark_types\n",
        "import pyspark.sql.functions  as pyspark_functions\n",
        "from pyspark import SparkContext, SparkConf\n",
        "\n",
        "#Create the session\n",
        "conf = SparkConf().set(\"spark.ui.port\", \"4050\")\n",
        "\n",
        "#Create the context\n",
        "sc = pyspark.SparkContext(conf=conf)\n",
        "spark = pyspark_sql.SparkSession.builder.getOrCreate()"
      ]
    },
    {
      "cell_type": "markdown",
      "metadata": {
        "id": "fAecB0vLAuqa"
      },
      "source": [
        "**ANALYSIS**"
      ]
    },
    {
      "cell_type": "code",
      "execution_count": null,
      "metadata": {
        "colab": {
          "base_uri": "https://localhost:8080/",
          "height": 825
        },
        "id": "X6mNT8CwAxC7",
        "outputId": "e005c3c7-444a-4eb7-cfa7-0b81d0bf8847"
      },
      "outputs": [
        {
          "output_type": "stream",
          "name": "stdout",
          "text": [
            "10042B660    314\n",
            "10042B6A8    196\n",
            "10042B6F0     48\n",
            "10042BA08     39\n",
            "10042B780     32\n",
            "            ... \n",
            "8020047D0      1\n",
            "81B572F61      1\n",
            "803BFD270      1\n",
            "817407180      1\n",
            "814C44D60      1\n",
            "Name: Account, Length: 2382, dtype: int64\n"
          ]
        },
        {
          "output_type": "display_data",
          "data": {
            "text/plain": [
              "<Figure size 1000x600 with 1 Axes>"
            ],
            "image/png": "[encoded data removed]"
          },
          "metadata": {}
        }
      ],
      "source": [
        "import pandas as pd\n",
        "import random\n",
        "import numpy as np\n",
        "\n",
        "# Load the dataset into a pandas DataFrame\n",
        "dj = pd.read_csv('/content/extracted_dataset/LI-Small_Trans.csv')\n",
        "\n",
        "#Set the display options to show all columns without wrapping\n",
        "pd.set_option('display.max_columns', None)\n",
        "pd.set_option('display.expand_frame_repr', False)\n",
        "\n",
        "import pandas as pd\n",
        "import matplotlib.pyplot as plt\n",
        "\n",
        "# Calculate the count of \"Is Laundering\" instances equal to 1 for each account\n",
        "account_counts = dj[dj[\"Is Laundering\"] == 1][\"Account\"].value_counts()\n",
        "\n",
        "# Sort the accounts based on the count in descending order\n",
        "sorted_accounts = account_counts.sort_values(ascending=False)\n",
        "print(sorted_accounts)\n",
        "# Select the top 10 accounts with the highest count\n",
        "top_10_accounts = sorted_accounts.head(10)\n",
        "\n",
        "# Plot a histogram of the selected accounts\n",
        "plt.figure(figsize=(10, 6))\n",
        "plt.bar(top_10_accounts.index, top_10_accounts.values)\n",
        "plt.xlabel('Account')\n",
        "plt.ylabel('Frequency')\n",
        "plt.title('Top 10 Accounts with Highest Is Laundering Count')\n",
        "plt.xticks(rotation=45)\n",
        "plt.show()"
      ]
    },
    {
      "cell_type": "code",
      "execution_count": null,
      "metadata": {
        "colab": {
          "base_uri": "https://localhost:8080/"
        },
        "id": "ikDwzr8DBET4",
        "outputId": "f9b13df0-3199-494b-ced0-2bbc2dcfb045"
      },
      "outputs": [
        {
          "output_type": "stream",
          "name": "stdout",
          "text": [
            "Nan count: 0\n",
            "          From Bank       To Bank  Amount Received   Amount Paid  Is Laundering\n",
            "count  6.924049e+06  6.924049e+06     6.924049e+06  6.924049e+06   6.924049e+06\n",
            "mean   5.938718e+04  8.441702e+04     6.324067e+06  4.676036e+06   5.148722e-04\n",
            "std    9.051700e+04  9.064562e+04     2.105371e+09  1.544099e+09   2.268495e-02\n",
            "min    0.000000e+00  0.000000e+00     1.000000e-06  1.000000e-06   0.000000e+00\n",
            "25%    2.190000e+02  1.125500e+04     1.742100e+02  1.753800e+02   0.000000e+00\n",
            "50%    1.419500e+04  2.964000e+04     1.397620e+03  1.399440e+03   0.000000e+00\n",
            "75%    1.106820e+05  1.480400e+05     1.229633e+04  1.222687e+04   0.000000e+00\n",
            "max    3.769670e+05  3.769670e+05     3.644854e+12  3.644854e+12   1.000000e+00\n"
          ]
        }
      ],
      "source": [
        "#count null values in dataframe\n",
        "nan_count = dj.isna().sum().sum()\n",
        "print(\"Nan count:\", nan_count)\n",
        "\n",
        "#dataframe summary\n",
        "summary = dj.describe()\n",
        "print(summary)"
      ]
    },
    {
      "cell_type": "markdown",
      "metadata": {
        "id": "u6nFZXn6BGQE"
      },
      "source": [
        "**PRE-PROCESSING**"
      ]
    },
    {
      "cell_type": "markdown",
      "metadata": {
        "id": "MT5VaP9LBNY0"
      },
      "source": [
        "### 1. Normalize Currency to US Dollars"
      ]
    },
    {
      "cell_type": "code",
      "execution_count": null,
      "metadata": {
        "id": "NtkWR2aCBOre"
      },
      "outputs": [],
      "source": [
        "currency_mapping = {\n",
        "    'Euro': 0.9996,\n",
        "    'Bitcoin': 0.000005,\n",
        "    'Australian Dollar': 1.464514,\n",
        "    'Brazil Real': 5.22181,\n",
        "    'Canadian Dollar': 1.316373,\n",
        "    'Mexican Peso': 20.18732,\n",
        "    'Ruble': 60.291,\n",
        "    'Rupee': 79.587665,\n",
        "    'Saudi Riyal': 7.84796,\n",
        "    'Shekel': 30.49032,\n",
        "    'Swiss Franc': 0.979808,\n",
        "    'UK Pound': 0.864384,\n",
        "    'US Dollar': 1,\n",
        "    'Yen': 139.28428,\n",
        "    'Yuan': 6.89894\n",
        "}\n",
        "\n",
        "# Create a function 'Convert to Dollar'\n",
        "def convert_to_dollar(amount, currency):\n",
        "    return amount / currency_mapping[currency]\n",
        "\n",
        "# Apply the 'Convert to Dollar' function to create a new column 'Amount in USD'\n",
        "dj['Amount in USD'] = dj.apply(lambda row: convert_to_dollar(row['Amount Paid'], row['Payment Currency']), axis=1)\n",
        "\n",
        "# Drop the 'Amount Paid' and 'Amount Received' columns\n",
        "dj.drop(['Amount Paid', 'Amount Received'], axis=1, inplace=True)"
      ]
    },
    {
      "cell_type": "markdown",
      "metadata": {
        "id": "gLThlxSnBT_C"
      },
      "source": [
        "### 2. Find ant Trim Outliers"
      ]
    },
    {
      "cell_type": "code",
      "execution_count": null,
      "metadata": {
        "colab": {
          "base_uri": "https://localhost:8080/",
          "height": 541
        },
        "id": "JLVNL0yyBI4h",
        "outputId": "77159a7a-2462-4b52-be51-772e2fc482b7"
      },
      "outputs": [
        {
          "output_type": "stream",
          "name": "stdout",
          "text": [
            "Big outliers:\n",
            "123204999999.99998\n",
            "71404400000.0\n",
            "49893914245.399994\n"
          ]
        },
        {
          "output_type": "display_data",
          "data": {
            "text/plain": [
              "<Figure size 640x480 with 1 Axes>"
            ],
            "image/png": "[encoded data removed]"
          },
          "metadata": {}
        }
      ],
      "source": [
        "from sklearn.cluster import KMeans\n",
        "from scipy.spatial.distance import cdist\n",
        "\n",
        "import matplotlib.pyplot as plt\n",
        "from sklearn.cluster import KMeans\n",
        "\n",
        "#select the column we want to cluster\n",
        "data = np.array(dj['Amount in USD'])\n",
        "\n",
        "# Define the number of clusters\n",
        "n_clusters = 3\n",
        "\n",
        "# Fit KMeans on the dataset\n",
        "kmeans = KMeans(n_clusters=n_clusters, n_init = 10)\n",
        "kmeans.fit(data.reshape(-1,1))\n",
        "\n",
        "# Predict cluster labels for each sample\n",
        "labels = kmeans.predict(data.reshape(-1,1))\n",
        "\n",
        "# Get the coordinates of the cluster centers\n",
        "centers = kmeans.cluster_centers_\n",
        "\n",
        "distances = kmeans.transform(data.reshape(-1,1))\n",
        "\n",
        "# Calculate the average distance for each sample\n",
        "avg_distances = np.mean(distances, axis=1)\n",
        "\n",
        "# Set a threshold for outlier detection (you can adjust this value)\n",
        "threshold = np.percentile(avg_distances, 94)  # Example: 95th percentile\n",
        "\n",
        "# Identify outliers based on the threshold\n",
        "outliers = data[avg_distances > threshold]\n",
        "print(\"Big outliers:\")\n",
        "for i in outliers:\n",
        "  if i>100:\n",
        "    print(i)\n",
        "    #delete big outlier\n",
        "    dj = (dj[dj['Amount in USD'] != i])\n",
        "\n",
        "#plot on Amount in USD attribute\n",
        "plt.scatter(data, np.zeros_like(data), c='blue', label='Inliers')\n",
        "plt.scatter(outliers, np.zeros_like(outliers), c='red', label='Outliers')\n",
        "plt.scatter(kmeans.cluster_centers_, np.zeros_like(kmeans.cluster_centers_), c='black', marker='x', label='Cluster Centers')\n",
        "plt.xlabel('Amount in USD')\n",
        "plt.title('Outlier Detection using K-means Clustering')\n",
        "plt.legend()\n",
        "plt.show()"
      ]
    },
    {
      "cell_type": "markdown",
      "metadata": {
        "id": "cd0qU1LnBU4P"
      },
      "source": [
        "### 3. Encoding of Attributes(One-Hot-Encoding and Frequency Encoding)"
      ]
    },
    {
      "cell_type": "code",
      "execution_count": null,
      "metadata": {
        "colab": {
          "base_uri": "https://localhost:8080/"
        },
        "id": "nTOtzpwcBdZL",
        "outputId": "8dea1895-fde1-43b7-eb8a-39f9f344f497"
      },
      "outputs": [
        {
          "output_type": "stream",
          "name": "stdout",
          "text": [
            "         From Bank    Account  To Bank  Account.1  Amount in USD  PF_ACH  PF_Bitcoin  PF_Cash  PF_Cheque  PF_Credit Card  PF_Reinvestment  PF_Wire  PC_Australian Dollar  PC_Bitcoin  PC_Brazil Real  PC_Canadian Dollar  PC_Euro  PC_Mexican Peso  PC_Ruble  PC_Rupee  PC_Saudi Riyal  PC_Shekel  PC_Swiss Franc  PC_UK Pound  PC_US Dollar  PC_Yen  PC_Yuan  Is Laundering\n",
            "429087      376967  81C1EB301   376967  81C1EB301  659548.000000     0.0         1.0      0.0        0.0             0.0              0.0      0.0                   0.0         1.0             0.0                 0.0      0.0              0.0       0.0       0.0             0.0        0.0             0.0          0.0           0.0     0.0      0.0              0\n",
            "6022950     376966  81B4C53C1    72146  81C1E6061    1805.800000     0.0         1.0      0.0        0.0             0.0              0.0      0.0                   0.0         1.0             0.0                 0.0      0.0              0.0       0.0       0.0             0.0        0.0             0.0          0.0           0.0     0.0      0.0              0\n",
            "2089470     376966  81B4C53C1    72146  81C1E6061    1805.800000     0.0         1.0      0.0        0.0             0.0              0.0      0.0                   0.0         1.0             0.0                 0.0      0.0              0.0       0.0       0.0             0.0        0.0             0.0          0.0           0.0     0.0      0.0              0\n",
            "1776008     376965  81C1E9871   273676  81C1E9501    2527.800000     0.0         1.0      0.0        0.0             0.0              0.0      0.0                   0.0         1.0             0.0                 0.0      0.0              0.0       0.0       0.0             0.0        0.0             0.0          0.0           0.0     0.0      0.0              0\n",
            "5968688     376965  81C1E9871   273676  81C1E9501    2527.800000     0.0         1.0      0.0        0.0             0.0              0.0      0.0                   0.0         1.0             0.0                 0.0      0.0              0.0       0.0       0.0             0.0        0.0             0.0          0.0           0.0     0.0      0.0              0\n",
            "...            ...        ...      ...        ...            ...     ...         ...      ...        ...             ...              ...      ...                   ...         ...             ...                 ...      ...              ...       ...       ...             ...        ...             ...          ...           ...     ...      ...            ...\n",
            "1464019          0  8003C2B00        0  8003C2B00  104287.214886     0.0         0.0      0.0        0.0             0.0              1.0      0.0                   0.0         0.0             0.0                 0.0      1.0              0.0       0.0       0.0             0.0        0.0             0.0          0.0           0.0     0.0      0.0              0\n",
            "5796292          0  800957DE0    24027  80A516920     992.206883     0.0         0.0      0.0        1.0             0.0              0.0      0.0                   0.0         0.0             0.0                 0.0      1.0              0.0       0.0       0.0             0.0        0.0             0.0          0.0           0.0     0.0      0.0              0\n",
            "5796293          0  800957DE0    24027  80A516920     508.103241     0.0         0.0      0.0        0.0             1.0              0.0      0.0                   0.0         0.0             0.0                 0.0      1.0              0.0       0.0       0.0             0.0        0.0             0.0          0.0           0.0     0.0      0.0              0\n",
            "5796342          0  804F68F20    18121  80ACC3620    1099.139656     0.0         0.0      0.0        1.0             0.0              0.0      0.0                   0.0         0.0             0.0                 0.0      1.0              0.0       0.0       0.0             0.0        0.0             0.0          0.0           0.0     0.0      0.0              0\n",
            "4937542          0  80104FCE0    14652  801C351A0     225.030012     0.0         0.0      0.0        0.0             1.0              0.0      0.0                   0.0         0.0             0.0                 0.0      1.0              0.0       0.0       0.0             0.0        0.0             0.0          0.0           0.0     0.0      0.0              0\n",
            "\n",
            "[6924046 rows x 28 columns]\n"
          ]
        }
      ],
      "source": [
        "from sklearn.preprocessing import OneHotEncoder\n",
        "\n",
        "\n",
        "\n",
        "pandas_df = dj\n",
        "\n",
        "#ONEHOTENCODING ON 'PAYMENT FORMAT'\n",
        "one_hot_enc = OneHotEncoder()\n",
        "payment_format_col = pandas_df['Payment Format']\n",
        "column_data_2d = payment_format_col.values.reshape(-1, 1)\n",
        "encoded_data = one_hot_enc.fit_transform(column_data_2d)\n",
        "encoded_df = pd.DataFrame(encoded_data.toarray(), columns=one_hot_enc.get_feature_names_out(['PF']))\n",
        "encoded_df.index = pandas_df.index\n",
        "pandas_updated_pf= pd.concat([pandas_df, encoded_df], axis=1)\n",
        "pandas_updated_pf.drop('Payment Format', axis=1, inplace=True)\n",
        "\n",
        "#ONEHOTENCODING ON 'PAYMENT CURRENCY'\n",
        "payment_format_col = pandas_df['Payment Currency']\n",
        "column_data_2d = payment_format_col.values.reshape(-1, 1)\n",
        "encoded_data = one_hot_enc.fit_transform(column_data_2d)\n",
        "encoded_df = pd.DataFrame(encoded_data.toarray(), columns=one_hot_enc.get_feature_names_out(['PC']))\n",
        "encoded_df.index = pandas_updated_pf.index\n",
        "pandas_updated_pc= pd.concat([pandas_updated_pf, encoded_df], axis=1)\n",
        "\n",
        "#Drop the useless attributes\n",
        "pandas_updated_pc.drop('Payment Currency', axis=1, inplace=True)\n",
        "pandas_updated_pc.drop('Receiving Currency', axis=1, inplace=True)\n",
        "pandas_updated_pc.drop('Timestamp', axis=1, inplace=True)\n",
        "\n",
        "# Move Y column to the Last\n",
        "temp_cols=pandas_updated_pc.columns.tolist()\n",
        "new_cols=temp_cols[0:4]+temp_cols[5:28]+ temp_cols[4:5]\n",
        "df=pandas_updated_pc[new_cols]\n",
        "\n",
        "# Print the modified DataFrame\n",
        "data_with_hashed_features = df\n",
        "print(df.sort_values(by = 'From Bank',ascending = False))"
      ]
    },
    {
      "cell_type": "markdown",
      "metadata": {
        "id": "ZFZZVsPFBsOt"
      },
      "source": [
        "**DECISION TREE CLASSIFIER**"
      ]
    },
    {
      "cell_type": "markdown",
      "metadata": {
        "id": "CrnzWPwYBy6C"
      },
      "source": [
        "### Node Class"
      ]
    },
    {
      "cell_type": "code",
      "execution_count": null,
      "metadata": {
        "id": "D6UbHnyrB7Oo"
      },
      "outputs": [],
      "source": [
        "class Node():\n",
        "    def __init__(self, f_indx = None, threshold = None, l = None, r = None, info_gain = None, label = None):\n",
        "\n",
        "        # for decision node\n",
        "        self.threshold = threshold\n",
        "        self.f_indx = f_indx\n",
        "        self.l = l\n",
        "        self.r = r\n",
        "        self.info_gain = info_gain\n",
        "\n",
        "        # for leaf node\n",
        "        self.label = label"
      ]
    },
    {
      "cell_type": "markdown",
      "metadata": {
        "id": "osK2CKuhCIlU"
      },
      "source": [
        "### Tree Class"
      ]
    },
    {
      "cell_type": "code",
      "execution_count": null,
      "metadata": {
        "id": "LV00HNwiBxJm"
      },
      "outputs": [],
      "source": [
        "class DecisionTreeClassifier():\n",
        "    def __init__(self, min_samples_split=2, max_depth=2, weight_1=0.001, n_thresholds = 100,col_dictionary=None):\n",
        "\n",
        "        # initialize the root of the tree\n",
        "        self.root = None\n",
        "\n",
        "        # stopping criteria\n",
        "        self.min_samples_split = min_samples_split\n",
        "        self.max_depth = max_depth\n",
        "\n",
        "        #hyperparameters\n",
        "        self.weight_1 = weight_1\n",
        "        self.n_thresholds = n_thresholds\n",
        "\n",
        "        #attribute needed for randomforest\n",
        "        self.col_dictionary=col_dictionary\n",
        "\n",
        "    def grow_tree(self, dataset, curr_depth=0):\n",
        "        #Grow a tree recursively\n",
        "\n",
        "        X, Y = dataset[:,:-1], dataset[:,-1]\n",
        "        n_samples, n_features = np.shape(X)\n",
        "\n",
        "        # split until stopping conditions are met\n",
        "        if n_samples>=self.min_samples_split and curr_depth<=self.max_depth:\n",
        "            # find the best split\n",
        "            optimal_split = self.get_optimal_split(dataset, n_samples, n_features)\n",
        "            # check if information gain is positive, if not we are in a pure node\n",
        "            if optimal_split[\"info_gain\"]>0:\n",
        "                # recur left\n",
        "                left_subtree = self.grow_tree(optimal_split[\"dataset_left\"], curr_depth+1)\n",
        "                # recur right\n",
        "                right_subtree = self.grow_tree(optimal_split[\"dataset_right\"], curr_depth+1)\n",
        "                # return decision node\n",
        "                return Node(optimal_split[\"f_indx\"], optimal_split[\"threshold\"],\n",
        "                            left_subtree, right_subtree, optimal_split[\"info_gain\"])\n",
        "\n",
        "        # compute leaf node\n",
        "        leaf_label = self.calculate_leaf_label(Y)\n",
        "        # return leaf node\n",
        "        return Node(label=leaf_label)\n",
        "\n",
        "    def get_optimal_split(self, dataset, n_samples, n_features):\n",
        "        #Find the optimal split for a node\n",
        "\n",
        "        # dictionary to store the best split\n",
        "        optimal_split = {}\n",
        "        optimal_split['info_gain'] = 0\n",
        "        max_inf_g = -1000000\n",
        "\n",
        "\n",
        "        # loop over all the features\n",
        "        for f_indx in range(n_features):\n",
        "\n",
        "            # values for each column\n",
        "            feature_values = dataset[:,f_indx]\n",
        "            # unique values for each column\n",
        "            possible = np.unique(feature_values)\n",
        "            # set of thresholds computed as the minimun between the parameter thresholds and the len of possible\n",
        "            possible_thresholds = np.random.choice(possible,min(self.n_thresholds,len(possible)), replace=True)\n",
        "\n",
        "            # loop over all the feature values present in the data\n",
        "            for threshold in possible_thresholds:\n",
        "                # get current split\n",
        "                dataset_left, dataset_right = self.split_data(dataset, f_indx, threshold)\n",
        "                # check if childs are not null\n",
        "\n",
        "                if len(dataset_left)>0 and len(dataset_right)>0:\n",
        "\n",
        "                    y, left_y, right_y = dataset[:, -1], dataset_left[:, -1], dataset_right[:, -1]\n",
        "                    # compute information gain\n",
        "                    curr_info_gain = self.compute_info_gain(y, left_y, right_y)\n",
        "                    # update the best split if needed\n",
        "                    if curr_info_gain>max_inf_g:\n",
        "                        optimal_split[\"f_indx\"] = f_indx\n",
        "                        optimal_split[\"threshold\"] = threshold\n",
        "                        optimal_split[\"dataset_left\"] = dataset_left\n",
        "                        optimal_split[\"dataset_right\"] = dataset_right\n",
        "                        optimal_split[\"info_gain\"] = curr_info_gain\n",
        "                        max_inf_g = curr_info_gain\n",
        "                        if(self.col_dictionary != None):\n",
        "                            optimal_split[\"f_indx\"] = self.col_dictionary[f_indx]\n",
        "\n",
        "\n",
        "        # return best split\n",
        "        return optimal_split\n",
        "\n",
        "    def split_data(self, dataset, f_indx, threshold):\n",
        "        #Split the data based on the given threshold\n",
        "        dataset_left = np.array([row for row in dataset if row[f_indx]<=threshold])\n",
        "        dataset_right = np.array([row for row in dataset if row[f_indx]>threshold])\n",
        "        return dataset_left, dataset_right\n",
        "\n",
        "    def compute_info_gain(self, parent, l_child, r_child):\n",
        "        #compute info gain\n",
        "        w_left = len(l_child) / len(parent)\n",
        "        w_right = len(r_child) / len(parent)\n",
        "        gain = self.calculate_gini_index(parent) - (w_left*self.calculate_gini_index(l_child) + w_right*self.calculate_gini_index(r_child))\n",
        "        return gain\n",
        "\n",
        "\n",
        "    def calculate_gini_index(self, y):\n",
        "        #Compute gini index\n",
        "\n",
        "        class_labels = np.unique(y)\n",
        "        gini = 0\n",
        "        for cls in class_labels:\n",
        "            if cls == 0:\n",
        "                p_cls = len(y[y == cls])/ len(y)\n",
        "                gini += p_cls**2\n",
        "            else:\n",
        "                p_cls = len(y[y == cls])/ len(y)\n",
        "                gini += p_cls**2\n",
        "\n",
        "        return 1 - gini\n",
        "\n",
        "    def calculate_leaf_label(self, Y):\n",
        "        #Compute leaf node label\n",
        "\n",
        "        Y = list(Y)\n",
        "        count_0 = Y.count(0)\n",
        "        count_1 = Y.count(1) * self.weight_1\n",
        "        mx = 0\n",
        "        if count_1 >= count_0:\n",
        "            mx = 1\n",
        "        return mx\n",
        "\n",
        "\n",
        "    def fit(self, X, Y):\n",
        "        #Train the tree\n",
        "\n",
        "        dataset = np.concatenate((X, Y), axis=1)\n",
        "        self.root = self.grow_tree(dataset)\n",
        "\n",
        "    def predict(self, X):\n",
        "        #function to predict new dataset\n",
        "\n",
        "        preditions = [self.make_prediction(x, self.root) for x in X]\n",
        "        return preditions\n",
        "\n",
        "    def make_prediction(self, x, tree):\n",
        "        #Predict a single data point\n",
        "\n",
        "        if tree.label!=None: return tree.label\n",
        "\n",
        "        feature_val = x[tree.f_indx]\n",
        "\n",
        "        if feature_val<=tree.threshold:\n",
        "\n",
        "            return self.make_prediction(x, tree.l)\n",
        "\n",
        "        else:\n",
        "            return self.make_prediction(x, tree.r)\n",
        "\n",
        "    def get_params(self, deep = True):\n",
        "        return {\n",
        "            'min_samples_split': self.min_samples_split,\n",
        "            'max_depth': self.max_depth,\n",
        "            'weight_1': self.weight_1,\n",
        "            'n_thresholds': self.n_thresholds\n",
        "        }\n",
        "    def set_params(self, **params):\n",
        "        for param, label in params.items():\n",
        "            setattr(self, param, label)\n",
        "        return self"
      ]
    },
    {
      "cell_type": "markdown",
      "metadata": {
        "id": "9cMiKWrfCP8M"
      },
      "source": [
        "### Sampler with Chosen Ratio"
      ]
    },
    {
      "cell_type": "code",
      "execution_count": null,
      "metadata": {
        "id": "PYH5QQg8CSak"
      },
      "outputs": [],
      "source": [
        "#sampler class that allow us to sample the dataset forcing a specific ratio of 1s and 0s\n",
        "\n",
        "class MySampler():\n",
        "    def __init__(self, original_df):\n",
        "        self.original_df = original_df\n",
        "\n",
        "    def get_sample(self, sample_size=100, laundering_ratio=0.1):\n",
        "        sample_1s = self.original_df[self.original_df['Is Laundering'] == 1].sample(int(sample_size * laundering_ratio))\n",
        "        sample_0s = self.original_df[self.original_df['Is Laundering'] == 0].sample(int(sample_size * (1- laundering_ratio)))\n",
        "        samp = pd.concat([sample_1s, sample_0s])\n",
        "\n",
        "        count1 = samp[samp['Is Laundering'] == 1].shape[0]\n",
        "        count0 = samp[samp['Is Laundering'] == 0].shape[0]\n",
        "        print('Sample dimension:', count1 + count0, '#1:', count1, '#0:', count0)\n",
        "        return samp"
      ]
    },
    {
      "cell_type": "markdown",
      "metadata": {
        "id": "uGMncTqYCZDV"
      },
      "source": [
        "**SPLITTING DATA AND FREQUENCY ENCODING, FITTING AND PREDICTING THE TREE**"
      ]
    },
    {
      "cell_type": "markdown",
      "metadata": {
        "id": "QdQ3VLlnCkgq"
      },
      "source": [
        "### Training and Test Splitting"
      ]
    },
    {
      "cell_type": "code",
      "execution_count": null,
      "metadata": {
        "colab": {
          "base_uri": "https://localhost:8080/"
        },
        "id": "eKgjvZjxCh9D",
        "outputId": "8e007eaa-38ad-454e-92e7-198b6cf8b849"
      },
      "outputs": [
        {
          "output_type": "stream",
          "name": "stdout",
          "text": [
            "Collecting category_encoders\n",
            "  Downloading category_encoders-2.6.2-py2.py3-none-any.whl (81 kB)\n",
            "\u001b[?25l     \u001b[90m━━━━━━━━━━━━━━━━━━━━━━━━━━━━━━━━━━━━━━━━\u001b[0m \u001b[32m0.0/81.8 kB\u001b[0m \u001b[31m?\u001b[0m eta \u001b[36m-:--:--\u001b[0m\r\u001b[2K     \u001b[91m━━━━━━━━━━━━━━━━━━━━━━━━━━━━━━━━━━━\u001b[0m\u001b[90m╺\u001b[0m\u001b[90m━━━━\u001b[0m \u001b[32m71.7/81.8 kB\u001b[0m \u001b[31m2.0 MB/s\u001b[0m eta \u001b[36m0:00:01\u001b[0m\r\u001b[2K     \u001b[90m━━━━━━━━━━━━━━━━━━━━━━━━━━━━━━━━━━━━━━━━\u001b[0m \u001b[32m81.8/81.8 kB\u001b[0m \u001b[31m1.8 MB/s\u001b[0m eta \u001b[36m0:00:00\u001b[0m\n",
            "\u001b[?25hRequirement already satisfied: numpy>=1.14.0 in /usr/local/lib/python3.10/dist-packages (from category_encoders) (1.23.5)\n",
            "Requirement already satisfied: scikit-learn>=0.20.0 in /usr/local/lib/python3.10/dist-packages (from category_encoders) (1.2.2)\n",
            "Requirement already satisfied: scipy>=1.0.0 in /usr/local/lib/python3.10/dist-packages (from category_encoders) (1.10.1)\n",
            "Requirement already satisfied: statsmodels>=0.9.0 in /usr/local/lib/python3.10/dist-packages (from category_encoders) (0.14.0)\n",
            "Requirement already satisfied: pandas>=1.0.5 in /usr/local/lib/python3.10/dist-packages (from category_encoders) (1.5.3)\n",
            "Requirement already satisfied: patsy>=0.5.1 in /usr/local/lib/python3.10/dist-packages (from category_encoders) (0.5.3)\n",
            "Requirement already satisfied: python-dateutil>=2.8.1 in /usr/local/lib/python3.10/dist-packages (from pandas>=1.0.5->category_encoders) (2.8.2)\n",
            "Requirement already satisfied: pytz>=2020.1 in /usr/local/lib/python3.10/dist-packages (from pandas>=1.0.5->category_encoders) (2023.3)\n",
            "Requirement already satisfied: six in /usr/local/lib/python3.10/dist-packages (from patsy>=0.5.1->category_encoders) (1.16.0)\n",
            "Requirement already satisfied: joblib>=1.1.1 in /usr/local/lib/python3.10/dist-packages (from scikit-learn>=0.20.0->category_encoders) (1.3.2)\n",
            "Requirement already satisfied: threadpoolctl>=2.0.0 in /usr/local/lib/python3.10/dist-packages (from scikit-learn>=0.20.0->category_encoders) (3.2.0)\n",
            "Requirement already satisfied: packaging>=21.3 in /usr/local/lib/python3.10/dist-packages (from statsmodels>=0.9.0->category_encoders) (23.1)\n",
            "Installing collected packages: category_encoders\n",
            "Successfully installed category_encoders-2.6.2\n",
            "Sample dimension: 500000 #1: 435 #0: 499565\n"
          ]
        }
      ],
      "source": [
        "! pip install category_encoders\n",
        "import category_encoders as ce\n",
        "import collections, numpy\n",
        "\n",
        "samp = MySampler(data_with_hashed_features).get_sample(500000, 0.00087)\n",
        "\n",
        "X = samp.iloc[:,0:27]\n",
        "Y = samp['Is Laundering'].values.reshape(-1,1)\n",
        "\n",
        "from sklearn.model_selection import train_test_split\n",
        "X_train, X_test, Y_train, Y_test = train_test_split(X, Y, test_size=.2, random_state=41,stratify = Y)\n",
        "\n",
        "# columns transformed with target encoding\n",
        "cole = ['From Bank','Account','To Bank','Account.1']\n",
        "encoder = ce.TargetEncoder(cols = cole)\n",
        "\n",
        "X_train_encoded = encoder.fit_transform(X_train,Y_train)\n",
        "\n",
        "\n",
        "X_test_encoded = encoder.transform(X_test)\n"
      ]
    },
    {
      "cell_type": "markdown",
      "metadata": {
        "id": "R1EGc5sTC4UX"
      },
      "source": [
        "### Fitting the Model"
      ]
    },
    {
      "cell_type": "code",
      "execution_count": null,
      "metadata": {
        "id": "puDqAbY2C6v3"
      },
      "outputs": [],
      "source": [
        "classifier = DecisionTreeClassifier(min_samples_split=3, max_depth=7, weight_1 = 5, n_thresholds = 10)\n",
        "classifier.fit(X_train_encoded.values,Y_train)"
      ]
    },
    {
      "cell_type": "markdown",
      "metadata": {
        "id": "ABBhPxjsDEhH"
      },
      "source": [
        "### Test"
      ]
    },
    {
      "cell_type": "code",
      "execution_count": null,
      "metadata": {
        "colab": {
          "base_uri": "https://localhost:8080/"
        },
        "id": "TfSM2E-2DGkh",
        "outputId": "e2767b4a-d055-4ae8-9eae-8a4965a40f09"
      },
      "outputs": [
        {
          "output_type": "stream",
          "name": "stdout",
          "text": [
            "TRAINING:\n",
            "Recall:  1.0\n",
            "Precision:  0.8226950354609929\n",
            "True negatives: 399577      False negatives 0      True positives: 348      False positives: 75\n",
            "\n",
            "TEST:\n",
            "Recall:  0.011494252873563218\n",
            "Precision:  0.03125\n",
            "True negatives: 99882      False negatives 86      True positives: 1      False positives: 31\n",
            "accuracy 0.99883\n"
          ]
        }
      ],
      "source": [
        "from sklearn.metrics import recall_score, confusion_matrix, precision_score,accuracy_score\n",
        "import numpy\n",
        "\n",
        "# Evaluate the model on the training set\n",
        "Y_train_pred = classifier.predict(X_train_encoded.values)\n",
        "\n",
        "# Evaluate the model on the validation set\n",
        "y_pred = classifier.predict(X_test_encoded.values)\n",
        "\n",
        "train_recall = recall_score(Y_train, Y_train_pred, average ='binary')\n",
        "train_precision = precision_score(Y_train, Y_train_pred, average ='binary')\n",
        "\n",
        "print(\"TRAINING:\")\n",
        "print('Recall: ', train_recall)\n",
        "print('Precision: ', train_precision)\n",
        "tn, fp, fn, tp = confusion_matrix(Y_train, Y_train_pred).ravel()\n",
        "print('True negatives:', tn,'     False negatives', fn,'     True positives:',tp,  '     False positives:', fp)\n",
        "#print(Y_train_pred)\n",
        "\n",
        "print(\"\")\n",
        "\n",
        "# Calculate recall/precision on the test set\n",
        "\n",
        "\n",
        "print(\"TEST:\")\n",
        "recall = recall_score(Y_test, y_pred, average ='binary')\n",
        "precision = precision_score(Y_test, y_pred, average ='binary')\n",
        "print('Recall: ', recall)\n",
        "print('Precision: ', precision)\n",
        "\n",
        "tn, fp, fn, tp = confusion_matrix(Y_test, y_pred).ravel()\n",
        "print('True negatives:', tn, '     False negatives', fn, '     True positives:',tp,'     False positives:', fp)\n",
        "\n",
        "\n",
        "# Compute the accuracy score (change as per your evaluation metric)\n",
        "accuracy = accuracy_score(y_pred,Y_test)\n",
        "print(\"accuracy\",accuracy)"
      ]
    },
    {
      "cell_type": "markdown",
      "metadata": {
        "id": "HGAzFip8DS2h"
      },
      "source": [
        "### Cross-Validation"
      ]
    },
    {
      "cell_type": "code",
      "execution_count": null,
      "metadata": {
        "id": "DyYPSiuTDWUW"
      },
      "outputs": [],
      "source": [
        "from sklearn.model_selection import GridSearchCV\n",
        "from sklearn.metrics import recall_score, confusion_matrix, accuracy_score, precision_score,f1_score\n",
        "import time\n",
        "\n",
        "param_grid = {\n",
        "    'max_depth': [7,10],\n",
        "    'weight_1': [5,10,100]\n",
        "    }\n",
        "\n",
        "# Create an instance of the decisiontree\n",
        "model = DecisionTreeClassifier(min_samples_split=3, max_depth=10, weight_1 = 0.001, n_thresholds = 5)\n",
        "# Gridsearch looks for the best hyperparameters performing cross-validation\n",
        "grid_search = GridSearchCV(model, param_grid,scoring = 'precision', cv=3)\n",
        "# Start time\n",
        "start_time = time.time()\n",
        "\n",
        "grid_search.fit(X_train_encoded.values,Y_train)\n",
        "\n",
        "end_time = time.time()\n",
        "\n",
        "\n",
        "# Calculate the execution time\n",
        "execution_time = end_time - start_time\n",
        "\n",
        "# Print the execution time\n",
        "print(\"Execution time:\", execution_time, \"seconds\")\n",
        "\n",
        "\n",
        "cv_results = grid_search.cv_results_\n",
        "\n",
        "print(\"Best Hyperparameters:\", grid_search.best_params_)\n",
        "\n",
        "for i in range(3):\n",
        "    fold_scores = cv_results['split{}_test_score'.format(i)]\n",
        "    print(\"Fold {}: {}\".format(i, fold_scores))\n"
      ]
    },
    {
      "cell_type": "markdown",
      "metadata": {
        "id": "tHF1ihwrDyYN"
      },
      "source": [
        "**RANDOM FOREST**"
      ]
    },
    {
      "cell_type": "markdown",
      "metadata": {
        "id": "PwZdFYY7D3Hj"
      },
      "source": [
        "### Import Libraries and PySpark Dataframes"
      ]
    },
    {
      "cell_type": "code",
      "execution_count": null,
      "metadata": {
        "id": "qa3JL6DyD0oB"
      },
      "outputs": [],
      "source": [
        "import random\n",
        "from pyspark.sql import SparkSession\n",
        "from pyspark.ml.feature import VectorAssembler\n",
        "from pyspark.sql.functions import col, lit\n",
        "from pyspark import SparkContext\n",
        "import pandas as pd\n",
        "import numpy as np\n",
        "spark = SparkSession.builder.master(\"local[10]\").config(\"spark.driver.memory\", \"20g\").getOrCreate()\n",
        "\n",
        "train = np.concatenate((X_train_encoded.values, Y_train), axis=1)\n",
        "test = np.concatenate((X_test_encoded.values, Y_test), axis=1)\n",
        "train_DF = spark.createDataFrame(train)\n",
        "test_DF = spark.createDataFrame(test)"
      ]
    },
    {
      "cell_type": "markdown",
      "metadata": {
        "id": "kggTRLdMELM4"
      },
      "source": [
        "### Random Forest"
      ]
    },
    {
      "cell_type": "code",
      "execution_count": null,
      "metadata": {
        "id": "5yNkLyjAENjC"
      },
      "outputs": [],
      "source": [
        "class RandomForestClassifier:\n",
        "    def __init__(self, label_col, min_samples_split=2, max_depth=2, weight_1=0.001, n_thresholds = 100, fraction=0.1, num_trees=10):\n",
        "        self.num_trees = num_trees\n",
        "        self.trees = []\n",
        "        self.max_depth = max_depth\n",
        "        self.min_samples_split = min_samples_split\n",
        "        self.weight_1 = weight_1\n",
        "        self.n_thresholds =n_thresholds\n",
        "        self.fraction = fraction\n",
        "\n",
        "    def create_sample(self,df, label_col):\n",
        "        #create a subset of the input dataset\n",
        "\n",
        "        self.label_col = label_col\n",
        "        samples = []\n",
        "        # Train decision tree classifiers\n",
        "        for i in range(self.num_trees):\n",
        "            single_sample = []\n",
        "            # ROWS BOOTSTRAP (With Replacement)\n",
        "            training_sample = df.sample(withReplacement=True, fraction = self.fraction, seed=i)\n",
        "            training_Y = training_sample.select(label_col)\n",
        "            training_X = training_sample.drop(label_col)\n",
        "\n",
        "\n",
        "            #columns BOOTSTRAP\n",
        "            #choose the N of columns to not consider\n",
        "            n = random.randint(1,5)\n",
        "            #randomly choose which are those N column\n",
        "            random_features = random.sample(training_X.columns, n)\n",
        "            print('Elimino colonne:')\n",
        "            print(random_features)\n",
        "            #drop the chosen columns\n",
        "            bootstrapped_training_X = training_X.drop(*random_features)\n",
        "\n",
        "            #create dictionary index -> \"real Index\"\n",
        "            #treeClassifier save the index of the attribute on which the partition is made\n",
        "            #but we use pass tables with less columns\n",
        "            dictionary_values = []\n",
        "\n",
        "            #change columns name to their \"real indexes\": \"_15\" -> 14 (starting from 0)\n",
        "            for column in bootstrapped_training_X.columns:\n",
        "              dictionary_values.append(int(column[1:])-1)\n",
        "\n",
        "            print(dictionary_values)\n",
        "            dictionary_keys = [i for i in range(len(dictionary_values))]\n",
        "            column_dictionary = dict(zip(dictionary_keys, dictionary_values))\n",
        "            print(column_dictionary)\n",
        "\n",
        "\n",
        "            bootstrapped_training_X = bootstrapped_training_X.toPandas().to_numpy()\n",
        "            training_Y = training_Y.toPandas().to_numpy()\n",
        "            single_sample.append(bootstrapped_training_X)\n",
        "            single_sample.append(training_Y)\n",
        "            single_sample.append(column_dictionary)\n",
        "            samples.append(single_sample)\n",
        "\n",
        "        return samples\n",
        "\n",
        "    def create_and_fit(self,single_sample):\n",
        "      #create and fit the tree\n",
        "\n",
        "      tree = DecisionTreeClassifier(min_samples_split = self.min_samples_split, max_depth= self.max_depth, weight_1= self.weight_1,n_thresholds= self.n_thresholds, col_dictionary= single_sample[2])\n",
        "      tree.fit(single_sample[0] , single_sample[1])\n",
        "      # Add the trained model to the list of trees\n",
        "      self.trees.append(tree)\n",
        "      return tree\n",
        "\n",
        "    def predict(self, df):\n",
        "      #Make predictions on the input DataFrame using each tree\n",
        "\n",
        "      test_X = df.drop(self.label_col)\n",
        "\n",
        "      # Make predictions on the input DataFrame using each tree\n",
        "      predictions = []\n",
        "      test_X = test_X.toPandas().to_numpy()\n",
        "\n",
        "      for tree in self.trees:\n",
        "\n",
        "        tree_predictions = tree.predict(test_X)\n",
        "        predictions.append(tree_predictions)\n",
        "\n",
        "      # Aggregate the predictions of individual trees by majority voting\n",
        "      aggregated_predictions = self.unify_predictions(predictions)\n",
        "      return aggregated_predictions\n",
        "\n",
        "\n",
        "\n",
        "\n",
        "    def unify_predictions(self, binary_lists):\n",
        "      unified_list = []\n",
        "      num_lists = len(binary_lists)\n",
        "      list_length = len(binary_lists[0])\n",
        "      for col in range(list_length):\n",
        "          count_1 = 0\n",
        "          count_0 = 0\n",
        "\n",
        "          for row in range(num_lists):\n",
        "              if binary_lists[row][col] == 1:\n",
        "                  count_1 += (2/3) * self.num_trees\n",
        "              else:\n",
        "                  count_0 += 1\n",
        "\n",
        "          majority_value = 1 if count_1 > count_0 else 0\n",
        "          unified_list.append(majority_value)\n",
        "\n",
        "      return unified_list\n",
        "\n",
        "    def get_params(self, deep = True):\n",
        "        return {\n",
        "            'label_col': self.label_col,\n",
        "            'num_trees': self.num_trees,\n",
        "            'trees': self.trees,\n",
        "            'max_depth': self.max_depth,\n",
        "            'min_samples_split': self.min_samples_split,\n",
        "            'weight_1': self.weight_1,\n",
        "            'n_thresholds': self.n_thresholds,\n",
        "            'fraction': self.fraction\n",
        "        }\n",
        "    def set_params(self, **params):\n",
        "        for param, value in params.items():\n",
        "            setattr(self, param, value)\n",
        "        return self\n"
      ]
    },
    {
      "cell_type": "markdown",
      "metadata": {
        "id": "-eWZwDXIFXno"
      },
      "source": [
        "### Fit and Predict the Model"
      ]
    },
    {
      "cell_type": "code",
      "execution_count": null,
      "metadata": {
        "id": "Yzv76JqgFaqw"
      },
      "outputs": [],
      "source": [
        "random_forest = RandomForestClassifier(label_col=\"_28\", min_samples_split=2, max_depth=7, weight_1=100, n_thresholds = 10, fraction=0.05 , num_trees=5)\n",
        "\n",
        "sample = random_forest.create_sample(train_DF, label_col=\"_28\")\n",
        "\n",
        "rdd = spark.sparkContext.parallelize(sample)\n",
        "\n",
        "tr = rdd.map(lambda x: random_forest.create_and_fit(x)).collect()\n",
        "\n",
        "random_forest.trees = tr\n",
        "\n",
        "training_predictions = random_forest.predict(train_DF)\n",
        "\n",
        "test_predictions = random_forest.predict(test_DF)"
      ]
    },
    {
      "cell_type": "markdown",
      "metadata": {
        "id": "DVBsk_0VFpFv"
      },
      "source": [
        "### Test"
      ]
    },
    {
      "cell_type": "code",
      "execution_count": null,
      "metadata": {
        "id": "kEhP1nlCFpUC",
        "colab": {
          "base_uri": "https://localhost:8080/"
        },
        "outputId": "83827120-1540-4d1d-b569-f2830f9f38c1"
      },
      "outputs": [
        {
          "output_type": "stream",
          "name": "stdout",
          "text": [
            "Accuracy_training:  0.9997375\n",
            "Training_error:  0.00026250000000005436\n",
            "Accuracy_test:  0.98957\n",
            "Test_error:  0.01043000000000005\n"
          ]
        }
      ],
      "source": [
        "from sklearn.metrics import accuracy_score\n",
        "\n",
        "#training error\n",
        "X_training_DF = train_DF.drop(\"_28\")\n",
        "X_training_DF = X_training_DF.toPandas().to_numpy()\n",
        "Y_training_DF = train_DF.select(\"_28\")\n",
        "Y_training_DF = Y_training_DF.toPandas().to_numpy()\n",
        "acc = accuracy_score(Y_training_DF, training_predictions)\n",
        "training_error = 1 - accuracy_score(Y_training_DF, training_predictions)\n",
        "print(\"Accuracy_training: \", acc)\n",
        "print(\"Training_error: \",training_error)\n",
        "\n",
        "#test error\n",
        "Y_test_DF = test_DF.select(\"_28\")\n",
        "Y_test_DF = Y_test_DF.toPandas().to_numpy()\n",
        "test_error = 1 - accuracy_score(Y_test_DF, test_predictions)\n",
        "ac = accuracy_score(Y_test_DF, test_predictions)\n",
        "print(\"Accuracy_test: \", ac)\n",
        "print(\"Test_error: \",test_error)"
      ]
    },
    {
      "cell_type": "code",
      "execution_count": null,
      "metadata": {
        "id": "V7xgqAgKF46x",
        "colab": {
          "base_uri": "https://localhost:8080/",
          "height": 245
        },
        "outputId": "e13de7a3-84dd-40de-ae8f-7a3bac52d295"
      },
      "outputs": [
        {
          "output_type": "error",
          "ename": "NameError",
          "evalue": "ignored",
          "traceback": [
            "\u001b[0;31m---------------------------------------------------------------------------\u001b[0m",
            "\u001b[0;31mNameError\u001b[0m                                 Traceback (most recent call last)",
            "\u001b[0;32m<ipython-input-1-37f18a28901d>\u001b[0m in \u001b[0;36m<cell line: 4>\u001b[0;34m()\u001b[0m\n\u001b[1;32m      2\u001b[0m \u001b[0;34m\u001b[0m\u001b[0m\n\u001b[1;32m      3\u001b[0m \u001b[0;31m#training error\u001b[0m\u001b[0;34m\u001b[0m\u001b[0;34m\u001b[0m\u001b[0m\n\u001b[0;32m----> 4\u001b[0;31m \u001b[0mX_training_DF\u001b[0m \u001b[0;34m=\u001b[0m \u001b[0mtrain_DF\u001b[0m\u001b[0;34m.\u001b[0m\u001b[0mdrop\u001b[0m\u001b[0;34m(\u001b[0m\u001b[0;34m\"_28\"\u001b[0m\u001b[0;34m)\u001b[0m\u001b[0;34m\u001b[0m\u001b[0;34m\u001b[0m\u001b[0m\n\u001b[0m\u001b[1;32m      5\u001b[0m \u001b[0mX_training_DF\u001b[0m \u001b[0;34m=\u001b[0m \u001b[0mX_training_DF\u001b[0m\u001b[0;34m.\u001b[0m\u001b[0mtoPandas\u001b[0m\u001b[0;34m(\u001b[0m\u001b[0;34m)\u001b[0m\u001b[0;34m.\u001b[0m\u001b[0mto_numpy\u001b[0m\u001b[0;34m(\u001b[0m\u001b[0;34m)\u001b[0m\u001b[0;34m\u001b[0m\u001b[0;34m\u001b[0m\u001b[0m\n\u001b[1;32m      6\u001b[0m \u001b[0mY_training_DF\u001b[0m \u001b[0;34m=\u001b[0m \u001b[0mtrain_DF\u001b[0m\u001b[0;34m.\u001b[0m\u001b[0mselect\u001b[0m\u001b[0;34m(\u001b[0m\u001b[0;34m\"_28\"\u001b[0m\u001b[0;34m)\u001b[0m\u001b[0;34m\u001b[0m\u001b[0;34m\u001b[0m\u001b[0m\n",
            "\u001b[0;31mNameError\u001b[0m: name 'train_DF' is not defined"
          ]
        }
      ],
      "source": [
        "from sklearn.metrics import recall_score, confusion_matrix,precision_score\n",
        "\n",
        "#training error\n",
        "X_training_DF = train_DF.drop(\"_28\")\n",
        "X_training_DF = X_training_DF.toPandas().to_numpy()\n",
        "Y_training_DF = train_DF.select(\"_28\")\n",
        "Y_training_DF = Y_training_DF.toPandas().to_numpy()\n",
        "\n",
        "# Calculate recall/sensitivity on the training set\n",
        "train_recall = recall_score(Y_training_DF, training_predictions, average ='binary')\n",
        "train_precision = precision_score(Y_training_DF, training_predictions, average ='binary')\n",
        "\n",
        "print(\"TRAINING:\")\n",
        "print('Recall: ', train_recall)\n",
        "print('Precision: ', train_precision)\n",
        "tn, fp, fn, tp = confusion_matrix(Y_training_DF, training_predictions).ravel()\n",
        "print('True negatives:', tn,'     False negatives', fn,'     True positives:',tp,  '     False positives:', fp)\n",
        "\n",
        "\n",
        "print(\"\")\n",
        "\n",
        "# Calculate recall/sensitivity on the test set\n",
        "print(\"TEST:\")\n",
        "recall = recall_score(Y_test_DF, test_predictions, average ='binary')\n",
        "precision = precision_score(Y_test_DF, test_predictions, average ='binary')\n",
        "print('Recall: ', recall)\n",
        "print('Precision: ', precision)\n",
        "\n",
        "tn, fp, fn, tp = confusion_matrix(Y_test_DF, test_predictions).ravel()\n",
        "print('True negatives:', tn, '     False negatives', fn, '     True positives:',tp,'     False positives:', fp)"
      ]
    }
  ],
  "metadata": {
    "colab": {
      "provenance": []
    },
    "kernelspec": {
      "display_name": "Python 3",
      "name": "python3"
    },
    "language_info": {
      "name": "python"
    }
  },
  "nbformat": 4,
  "nbformat_minor": 0
}